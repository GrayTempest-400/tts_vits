{
 "cells": [
  {
   "cell_type": "code",
   "execution_count": 1,
   "id": "a4e7d7d6-06f0-4bc3-b5ca-b90bff97e0c2",
   "metadata": {
    "tags": [],
    "pycharm": {
     "name": "#%%\n"
    }
   },
   "outputs": [
    {
     "name": "stdout",
     "output_type": "stream",
     "text": [
      "Sat Sep 24 19:29:37 2022       \r\n",
      "+-----------------------------------------------------------------------------+\r\n",
      "| NVIDIA-SMI 470.141.03   Driver Version: 470.141.03   CUDA Version: 11.4     |\r\n",
      "|-------------------------------+----------------------+----------------------+\r\n",
      "| GPU  Name        Persistence-M| Bus-Id        Disp.A | Volatile Uncorr. ECC |\r\n",
      "| Fan  Temp  Perf  Pwr:Usage/Cap|         Memory-Usage | GPU-Util  Compute M. |\r\n",
      "|                               |                      |               MIG M. |\r\n",
      "|===============================+======================+======================|\r\n",
      "|   0  NVIDIA GeForce ...  Off  | 00000000:01:00.0  On |                  N/A |\r\n",
      "| 32%   45C    P2    61W / 170W |   4310MiB / 12045MiB |     54%      Default |\r\n",
      "|                               |                      |                  N/A |\r\n",
      "+-------------------------------+----------------------+----------------------+\r\n",
      "                                                                               \r\n",
      "+-----------------------------------------------------------------------------+\r\n",
      "| Processes:                                                                  |\r\n",
      "|  GPU   GI   CI        PID   Type   Process name                  GPU Memory |\r\n",
      "|        ID   ID                                                   Usage      |\r\n",
      "|=============================================================================|\r\n",
      "|    0   N/A  N/A      2160      G   /usr/lib/xorg/Xorg                649MiB |\r\n",
      "|    0   N/A  N/A      2448      G   /usr/bin/gnome-shell              308MiB |\r\n",
      "|    0   N/A  N/A      4801      G   ...RendererForSitePerProcess      105MiB |\r\n",
      "|    0   N/A  N/A      4969      G   ...567319290818256221,131072      305MiB |\r\n",
      "|    0   N/A  N/A      5781    C+G   obs                               864MiB |\r\n",
      "|    0   N/A  N/A      6050      C   ...s/vits-chinese/bin/python     2071MiB |\r\n",
      "+-----------------------------------------------------------------------------+\r\n"
     ]
    }
   ],
   "source": [
    "!nvidia-smi"
   ]
  },
  {
   "cell_type": "code",
   "execution_count": null,
   "id": "218b3c62-b9e5-4242-b6c3-3a98b6ca4d90",
   "metadata": {
    "collapsed": true,
    "jupyter": {
     "outputs_hidden": true
    },
    "tags": [],
    "pycharm": {
     "name": "#%%\n"
    }
   },
   "outputs": [
    {
     "name": "stdout",
     "output_type": "stream",
     "text": [
      "Looking in indexes: https://mirrors.aliyun.com/pypi/simple\n",
      "Collecting Cython==0.29.21\n",
      "  Downloading https://mirrors.aliyun.com/pypi/packages/9f/05/959e78f2aeade1c9e85a7adc4c376f454ecaeb4cb6b079ca7a85684b69c1/Cython-0.29.21-cp38-cp38-manylinux1_x86_64.whl (1.9 MB)\n",
      "\u001B[2K     \u001B[90m━━━━━━━━━━━━━━━━━━━━━━━━━━━━━━━━━━━━━━━━\u001B[0m \u001B[32m1.9/1.9 MB\u001B[0m \u001B[31m2.8 MB/s\u001B[0m eta \u001B[36m0:00:00\u001B[0m00:01\u001B[0m00:01\u001B[0m\n",
      "\u001B[?25hCollecting librosa==0.8.0\n",
      "  Downloading https://mirrors.aliyun.com/pypi/packages/26/4d/c22d8ca74ca2c13cd4ac430fa353954886104321877b65fa871939e78591/librosa-0.8.0.tar.gz (183 kB)\n",
      "\u001B[2K     \u001B[90m━━━━━━━━━━━━━━━━━━━━━━━━━━━━━━━━━━━━━━━\u001B[0m \u001B[32m183.9/183.9 KB\u001B[0m \u001B[31m3.2 MB/s\u001B[0m eta \u001B[36m0:00:00\u001B[0ma \u001B[36m0:00:01\u001B[0m\n",
      "\u001B[?25h  Preparing metadata (setup.py) ... \u001B[?25ldone\n",
      "\u001B[?25hCollecting matplotlib==3.3.1\n",
      "  Downloading https://mirrors.aliyun.com/pypi/packages/61/93/9cd72fb8e4a1f5b2960876d31c3ef460aa93d67e1e0d60dcaf0e36adba3b/matplotlib-3.3.1-cp38-cp38-manylinux1_x86_64.whl (11.6 MB)\n",
      "\u001B[2K     \u001B[90m━━━━━━━━━━━━━━━━━━━━━━━━━━━━━━━━━━━━━━━━\u001B[0m \u001B[32m11.6/11.6 MB\u001B[0m \u001B[31m3.6 MB/s\u001B[0m eta \u001B[36m0:00:00\u001B[0m00:01\u001B[0m00:01\u001B[0m\n",
      "\u001B[?25hCollecting numpy==1.21.6\n",
      "  Downloading https://mirrors.aliyun.com/pypi/packages/d5/43/e88bb1fb7d040ae8e0e06e749341b13f57701aab11fe9d71c99af6202c5c/numpy-1.21.6-cp38-cp38-manylinux_2_12_x86_64.manylinux2010_x86_64.whl (15.7 MB)\n",
      "\u001B[2K     \u001B[90m━━━━━━━━━━━━━━━━━━━━━━━━━━━━━━━━━━━━━━━━\u001B[0m \u001B[32m15.7/15.7 MB\u001B[0m \u001B[31m3.4 MB/s\u001B[0m eta \u001B[36m0:00:00\u001B[0m00:01\u001B[0m00:01\u001B[0m\n",
      "\u001B[?25hCollecting phonemizer==2.2.1\n",
      "  Downloading https://mirrors.aliyun.com/pypi/packages/e1/ec/eb95ec96dc5374ba339d47c5252d62e9a7b1fbd5c9e4eefebc0d7e25381d/phonemizer-2.2.1-py3-none-any.whl (49 kB)\n",
      "\u001B[2K     \u001B[90m━━━━━━━━━━━━━━━━━━━━━━━━━━━━━━━━━━━━━━━━\u001B[0m \u001B[32m49.0/49.0 KB\u001B[0m \u001B[31m2.9 MB/s\u001B[0m eta \u001B[36m0:00:00\u001B[0m\n",
      "\u001B[?25hCollecting scipy==1.5.2\n",
      "  Downloading https://mirrors.aliyun.com/pypi/packages/8f/be/8625045311a3ed58af5f7ca8a51f20b1bbf72e288d34b48cc81cca550166/scipy-1.5.2-cp38-cp38-manylinux1_x86_64.whl (25.7 MB)\n",
      "\u001B[2K     \u001B[90m━━━━━━━━━━━━━━━━━━━━━━━━━━━━━━━━━━━━━━━━\u001B[0m \u001B[32m25.7/25.7 MB\u001B[0m \u001B[31m2.8 MB/s\u001B[0m eta \u001B[36m0:00:00\u001B[0m00:01\u001B[0m00:01\u001B[0m\n",
      "\u001B[?25hCollecting Unidecode==1.1.1\n",
      "  Downloading https://mirrors.aliyun.com/pypi/packages/d0/42/d9edfed04228bacea2d824904cae367ee9efd05e6cce7ceaaedd0b0ad964/Unidecode-1.1.1-py2.py3-none-any.whl (238 kB)\n",
      "\u001B[2K     \u001B[90m━━━━━━━━━━━━━━━━━━━━━━━━━━━━━━━━━━━━━━━\u001B[0m \u001B[32m238.3/238.3 KB\u001B[0m \u001B[31m4.0 MB/s\u001B[0m eta \u001B[36m0:00:00\u001B[0ma \u001B[36m0:00:01\u001B[0m\n",
      "\u001B[?25hCollecting pypinyin==0.47.0\n",
      "  Downloading https://mirrors.aliyun.com/pypi/packages/33/d0/a51a855572d772727fd4b7e754cbc05cc01728d37873a4b6dd8d30e625d5/pypinyin-0.47.0-py2.py3-none-any.whl (1.4 MB)\n",
      "\u001B[2K     \u001B[90m━━━━━━━━━━━━━━━━━━━━━━━━━━━━━━━━━━━━━━━━\u001B[0m \u001B[32m1.4/1.4 MB\u001B[0m \u001B[31m2.9 MB/s\u001B[0m eta \u001B[36m0:00:00\u001B[0m00:01\u001B[0m00:01\u001B[0m\n",
      "\u001B[?25hCollecting audioread>=2.0.0\n",
      "  Downloading https://mirrors.aliyun.com/pypi/packages/5d/cb/82a002441902dccbe427406785db07af10182245ee639ea9f4d92907c923/audioread-3.0.0.tar.gz (377 kB)\n",
      "\u001B[2K     \u001B[90m━━━━━━━━━━━━━━━━━━━━━━━━━━━━━━━━━━━━━━━\u001B[0m \u001B[32m377.0/377.0 KB\u001B[0m \u001B[31m3.8 MB/s\u001B[0m eta \u001B[36m0:00:00\u001B[0ma \u001B[36m0:00:01\u001B[0m\n",
      "\u001B[?25h  Preparing metadata (setup.py) ... \u001B[?25ldone\n",
      "\u001B[?25hRequirement already satisfied: scikit-learn!=0.19.0,>=0.14.0 in /usr/local/lib/python3.8/dist-packages (from librosa==0.8.0->-r requirements.txt (line 2)) (1.0.2)\n",
      "Requirement already satisfied: joblib>=0.14 in /usr/local/lib/python3.8/dist-packages (from librosa==0.8.0->-r requirements.txt (line 2)) (1.1.0)\n",
      "Requirement already satisfied: decorator>=3.0.0 in /usr/local/lib/python3.8/dist-packages (from librosa==0.8.0->-r requirements.txt (line 2)) (5.1.1)\n",
      "Collecting resampy>=0.2.2\n",
      "  Downloading https://mirrors.aliyun.com/pypi/packages/f2/d3/5209fd2132452f199b1ddf0d084f9fd5f5f910840e3b282f005b48a503e1/resampy-0.4.2-py3-none-any.whl (3.1 MB)\n",
      "\u001B[2K     \u001B[90m━━━━━━━━━━━━━━━━━━━━━━━━━━━━━━━━━━━━━━━━\u001B[0m \u001B[32m3.1/3.1 MB\u001B[0m \u001B[31m4.3 MB/s\u001B[0m eta \u001B[36m0:00:00\u001B[0m00:01\u001B[0m00:01\u001B[0m\n",
      "\u001B[?25hCollecting numba>=0.43.0\n",
      "  Downloading https://mirrors.aliyun.com/pypi/packages/8a/b3/e3a6cdfdeac52195766b1365a2512e5138de1df55204cb22d78554f9e1e6/numba-0.56.2-cp38-cp38-manylinux2014_x86_64.manylinux_2_17_x86_64.whl (3.5 MB)\n",
      "\u001B[2K     \u001B[90m━━━━━━━━━━━━━━━━━━━━━━━━━━━━━━━━━━━━━━━━\u001B[0m \u001B[32m3.5/3.5 MB\u001B[0m \u001B[31m3.9 MB/s\u001B[0m eta \u001B[36m0:00:00\u001B[0m00:01\u001B[0m00:01\u001B[0m\n",
      "\u001B[?25hCollecting soundfile>=0.9.0\n",
      "  Downloading https://mirrors.aliyun.com/pypi/packages/eb/f2/3cbbbf3b96fb9fa91582c438b574cff3f45b29c772f94c400e2c99ef5db9/SoundFile-0.10.3.post1-py2.py3-none-any.whl (21 kB)\n",
      "Collecting pooch>=1.0\n",
      "  Downloading https://mirrors.aliyun.com/pypi/packages/8d/64/8e1bfeda3ba0f267b2d9a918e8ca51db8652d0e1a3412a5b3dbce85d90b6/pooch-1.6.0-py3-none-any.whl (56 kB)\n",
      "\u001B[2K     \u001B[90m━━━━━━━━━━━━━━━━━━━━━━━━━━━━━━━━━━━━━━━━\u001B[0m \u001B[32m56.3/56.3 KB\u001B[0m \u001B[31m5.3 MB/s\u001B[0m eta \u001B[36m0:00:00\u001B[0m\n",
      "\u001B[?25hRequirement already satisfied: python-dateutil>=2.1 in /usr/local/lib/python3.8/dist-packages (from matplotlib==3.3.1->-r requirements.txt (line 3)) (2.8.2)\n",
      "Requirement already satisfied: kiwisolver>=1.0.1 in /usr/local/lib/python3.8/dist-packages (from matplotlib==3.3.1->-r requirements.txt (line 3)) (1.4.2)\n",
      "Requirement already satisfied: pyparsing!=2.0.4,!=2.1.2,!=2.1.6,>=2.0.3 in /usr/local/lib/python3.8/dist-packages (from matplotlib==3.3.1->-r requirements.txt (line 3)) (3.0.8)\n",
      "Requirement already satisfied: certifi>=2020.06.20 in /usr/local/lib/python3.8/dist-packages (from matplotlib==3.3.1->-r requirements.txt (line 3)) (2021.10.8)\n",
      "Requirement already satisfied: cycler>=0.10 in /usr/local/lib/python3.8/dist-packages (from matplotlib==3.3.1->-r requirements.txt (line 3)) (0.11.0)\n",
      "Requirement already satisfied: pillow>=6.2.0 in /usr/local/lib/python3.8/dist-packages (from matplotlib==3.3.1->-r requirements.txt (line 3)) (9.1.0)\n",
      "Requirement already satisfied: attrs>=18.1 in /usr/local/lib/python3.8/dist-packages (from phonemizer==2.2.1->-r requirements.txt (line 5)) (21.4.0)\n",
      "Collecting segments\n",
      "  Downloading https://mirrors.aliyun.com/pypi/packages/93/d4/74dba5011533e66becf35aae5cf1d726e760f445db052592bad70e75305c/segments-2.2.1-py2.py3-none-any.whl (15 kB)\n",
      "Collecting llvmlite<0.40,>=0.39.0dev0\n",
      "  Downloading https://mirrors.aliyun.com/pypi/packages/f5/d4/4cd3efa0a6e5f63b17ba7e383bb9e90f8008c539bb51dbe5bb7b7aabaed1/llvmlite-0.39.1-cp38-cp38-manylinux_2_17_x86_64.manylinux2014_x86_64.whl (34.6 MB)\n",
      "\u001B[2K     \u001B[90m━━━━━━━━━━━━━━━━━━━━━━━━━━━━━━━━━━━━━━━━\u001B[0m \u001B[32m34.6/34.6 MB\u001B[0m \u001B[31m3.7 MB/s\u001B[0m eta \u001B[36m0:00:00\u001B[0m00:01\u001B[0m00:01\u001B[0m\n",
      "\u001B[?25hCollecting setuptools<60\n",
      "  Downloading https://mirrors.aliyun.com/pypi/packages/8d/25/88b377b99ffb4ad0fc44ff5735fd6be605b2183f743d1ff5c10b7790cea5/setuptools-59.8.0-py3-none-any.whl (952 kB)\n",
      "\u001B[2K     \u001B[90m━━━━━━━━━━━━━━━━━━━━━━━━━━━━━━━━━━━━━━━\u001B[0m \u001B[32m952.8/952.8 KB\u001B[0m \u001B[31m2.9 MB/s\u001B[0m eta \u001B[36m0:00:00\u001B[0m00:01\u001B[0m00:01\u001B[0m\n",
      "\u001B[?25hRequirement already satisfied: importlib-metadata in /usr/local/lib/python3.8/dist-packages (from numba>=0.43.0->librosa==0.8.0->-r requirements.txt (line 2)) (4.11.3)\n",
      "Collecting appdirs>=1.3.0\n",
      "  Downloading https://mirrors.aliyun.com/pypi/packages/3b/00/2344469e2084fb287c2e0b57b72910309874c3245463acd6cf5e3db69324/appdirs-1.4.4-py2.py3-none-any.whl (9.6 kB)\n",
      "Requirement already satisfied: packaging>=20.0 in /usr/local/lib/python3.8/dist-packages (from pooch>=1.0->librosa==0.8.0->-r requirements.txt (line 2)) (21.3)\n",
      "Requirement already satisfied: requests>=2.19.0 in /usr/local/lib/python3.8/dist-packages (from pooch>=1.0->librosa==0.8.0->-r requirements.txt (line 2)) (2.27.1)\n",
      "Requirement already satisfied: six>=1.5 in /usr/local/lib/python3.8/dist-packages (from python-dateutil>=2.1->matplotlib==3.3.1->-r requirements.txt (line 3)) (1.16.0)\n",
      "Requirement already satisfied: threadpoolctl>=2.0.0 in /usr/local/lib/python3.8/dist-packages (from scikit-learn!=0.19.0,>=0.14.0->librosa==0.8.0->-r requirements.txt (line 2)) (3.1.0)\n",
      "Requirement already satisfied: cffi>=1.0 in /usr/local/lib/python3.8/dist-packages (from soundfile>=0.9.0->librosa==0.8.0->-r requirements.txt (line 2)) (1.15.0)\n",
      "Collecting regex\n",
      "  Downloading https://mirrors.aliyun.com/pypi/packages/26/c9/460171cfb4b4d68265a10621195e1baa5b906ef899eb0f19577b3ce4f9c5/regex-2022.9.13-cp38-cp38-manylinux_2_17_x86_64.manylinux2014_x86_64.whl (772 kB)\n",
      "\u001B[2K     \u001B[90m━━━━━━━━━━━━━━━━━━━━━━━━━━━━━━━━━━━━━━━\u001B[0m \u001B[32m772.3/772.3 KB\u001B[0m \u001B[31m4.1 MB/s\u001B[0m eta \u001B[36m0:00:00\u001B[0ma \u001B[36m0:00:01\u001B[0m\n",
      "\u001B[?25hCollecting csvw>=1.5.6\n",
      "  Downloading https://mirrors.aliyun.com/pypi/packages/39/32/d643ff95ad2bd3365f8d8bdb88de0adeface86974da088e1399970609d17/csvw-3.1.1-py2.py3-none-any.whl (56 kB)\n",
      "\u001B[2K     \u001B[90m━━━━━━━━━━━━━━━━━━━━━━━━━━━━━━━━━━━━━━━━\u001B[0m \u001B[32m56.3/56.3 KB\u001B[0m \u001B[31m14.2 MB/s\u001B[0m eta \u001B[36m0:00:00\u001B[0m\n",
      "\u001B[?25hCollecting clldutils>=1.7.3\n",
      "  Downloading https://mirrors.aliyun.com/pypi/packages/67/da/417b45cfc18c56690d9f66a7a2a05770613640df3dc002faad7fac2bc97e/clldutils-3.12.0-py2.py3-none-any.whl (197 kB)\n",
      "\u001B[2K     \u001B[90m━━━━━━━━━━━━━━━━━━━━━━━━━━━━━━━━━━━━━━━\u001B[0m \u001B[32m197.6/197.6 KB\u001B[0m \u001B[31m4.3 MB/s\u001B[0m eta \u001B[36m0:00:00\u001B[0ma \u001B[36m0:00:01\u001B[0m\n",
      "\u001B[?25hRequirement already satisfied: pycparser in /usr/local/lib/python3.8/dist-packages (from cffi>=1.0->soundfile>=0.9.0->librosa==0.8.0->-r requirements.txt (line 2)) (2.21)\n",
      "Collecting colorlog\n",
      "  Downloading https://mirrors.aliyun.com/pypi/packages/58/43/a363c213224448f9e194d626221123ce00e3fb3d87c0c22aed52b620bdd1/colorlog-6.7.0-py2.py3-none-any.whl (11 kB)\n",
      "Collecting tabulate>=0.7.7\n",
      "  Downloading https://mirrors.aliyun.com/pypi/packages/92/4e/e5a13fdb3e6f81ce11893523ff289870c87c8f1f289a7369fb0e9840c3bb/tabulate-0.8.10-py3-none-any.whl (29 kB)\n",
      "Requirement already satisfied: jsonschema in /usr/local/lib/python3.8/dist-packages (from csvw>=1.5.6->segments->phonemizer==2.2.1->-r requirements.txt (line 5)) (4.4.0)\n",
      "Collecting rdflib\n",
      "  Downloading https://mirrors.aliyun.com/pypi/packages/50/fb/a0f8b6ab6598b49871a48a189dc1942fb0b0543ab4c84f689486233ef1ec/rdflib-6.2.0-py3-none-any.whl (500 kB)\n",
      "\u001B[2K     \u001B[90m━━━━━━━━━━━━━━━━━━━━━━━━━━━━━━━━━━━━━━━\u001B[0m \u001B[32m500.3/500.3 KB\u001B[0m \u001B[31m5.0 MB/s\u001B[0m eta \u001B[36m0:00:00\u001B[0ma \u001B[36m0:00:01\u001B[0m\n",
      "\u001B[?25hCollecting colorama\n",
      "  Downloading https://mirrors.aliyun.com/pypi/packages/77/8b/7550e87b2d308a1b711725dfaddc19c695f8c5fa413c640b2be01662f4e6/colorama-0.4.5-py2.py3-none-any.whl (16 kB)\n",
      "Collecting uritemplate>=3.0.0\n",
      "  Downloading https://mirrors.aliyun.com/pypi/packages/81/c0/7461b49cd25aeece13766f02ee576d1db528f1c37ce69aee300e075b485b/uritemplate-4.1.1-py2.py3-none-any.whl (10 kB)\n",
      "Collecting rfc3986<2\n",
      "  Downloading https://mirrors.aliyun.com/pypi/packages/c4/e5/63ca2c4edf4e00657584608bee1001302bbf8c5f569340b78304f2f446cb/rfc3986-1.5.0-py2.py3-none-any.whl (31 kB)\n",
      "Requirement already satisfied: babel in /usr/local/lib/python3.8/dist-packages (from csvw>=1.5.6->segments->phonemizer==2.2.1->-r requirements.txt (line 5)) (2.10.1)\n",
      "Collecting isodate\n",
      "  Downloading https://mirrors.aliyun.com/pypi/packages/b6/85/7882d311924cbcfc70b1890780763e36ff0b140c7e51c110fc59a532f087/isodate-0.6.1-py2.py3-none-any.whl (41 kB)\n",
      "\u001B[2K     \u001B[90m━━━━━━━━━━━━━━━━━━━━━━━━━━━━━━━━━━━━━━━━\u001B[0m \u001B[32m41.7/41.7 KB\u001B[0m \u001B[31m2.3 MB/s\u001B[0m eta \u001B[36m0:00:00\u001B[0m\n",
      "\u001B[?25hCollecting language-tags\n",
      "  Downloading https://mirrors.aliyun.com/pypi/packages/cb/1e/aecdf6121f33cc86bdd81336a22cbbb57a02eea1cb702b57fed932bb00a1/language_tags-1.1.0-py2.py3-none-any.whl (210 kB)\n",
      "\u001B[2K     \u001B[90m━━━━━━━━━━━━━━━━━━━━━━━━━━━━━━━━━━━━━━━\u001B[0m \u001B[32m210.5/210.5 KB\u001B[0m \u001B[31m6.5 MB/s\u001B[0m eta \u001B[36m0:00:00\u001B[0m\n",
      "\u001B[?25hRequirement already satisfied: charset-normalizer~=2.0.0 in /usr/local/lib/python3.8/dist-packages (from requests>=2.19.0->pooch>=1.0->librosa==0.8.0->-r requirements.txt (line 2)) (2.0.12)\n",
      "Requirement already satisfied: urllib3<1.27,>=1.21.1 in /usr/local/lib/python3.8/dist-packages (from requests>=2.19.0->pooch>=1.0->librosa==0.8.0->-r requirements.txt (line 2)) (1.26.9)\n",
      "Requirement already satisfied: idna<4,>=2.5 in /usr/local/lib/python3.8/dist-packages (from requests>=2.19.0->pooch>=1.0->librosa==0.8.0->-r requirements.txt (line 2)) (3.3)\n",
      "Requirement already satisfied: zipp>=0.5 in /usr/local/lib/python3.8/dist-packages (from importlib-metadata->numba>=0.43.0->librosa==0.8.0->-r requirements.txt (line 2)) (3.8.0)\n",
      "Requirement already satisfied: pytz>=2015.7 in /usr/local/lib/python3.8/dist-packages (from babel->csvw>=1.5.6->segments->phonemizer==2.2.1->-r requirements.txt (line 5)) (2022.1)\n",
      "Requirement already satisfied: importlib-resources>=1.4.0 in /usr/local/lib/python3.8/dist-packages (from jsonschema->csvw>=1.5.6->segments->phonemizer==2.2.1->-r requirements.txt (line 5)) (5.7.1)\n",
      "Requirement already satisfied: pyrsistent!=0.17.0,!=0.17.1,!=0.17.2,>=0.14.0 in /usr/local/lib/python3.8/dist-packages (from jsonschema->csvw>=1.5.6->segments->phonemizer==2.2.1->-r requirements.txt (line 5)) (0.18.1)\n",
      "Building wheels for collected packages: librosa, audioread\n",
      "  Building wheel for librosa (setup.py) ... \u001B[?25ldone\n",
      "\u001B[?25h  Created wheel for librosa: filename=librosa-0.8.0-py3-none-any.whl size=201394 sha256=3a54cc4a185c2ed561491a27d1f1b93f8f30aed5d5fad0072a7214b00df6263c\n",
      "  Stored in directory: /root/.cache/pip/wheels/48/f3/4a/d3f22ad569c658ee8d39d1b4d78087379fe2447ad1791ac407\n",
      "  Building wheel for audioread (setup.py) ... \u001B[?25ldone\n",
      "\u001B[?25h  Created wheel for audioread: filename=audioread-3.0.0-py3-none-any.whl size=23706 sha256=ddded710138369987213fb8aece9c25eead5608c2ef73096e9fe81a1e3dcc47a\n",
      "  Stored in directory: /root/.cache/pip/wheels/6c/19/be/fe0ec6e6995fc28c895e9270c0db2b26d457eb082a1fb21f3a\n",
      "Successfully built librosa audioread\n",
      "Installing collected packages: rfc3986, language-tags, appdirs, uritemplate, Unidecode, tabulate, setuptools, regex, pypinyin, numpy, llvmlite, isodate, Cython, colorlog, colorama, audioread, soundfile, scipy, rdflib, pooch, numba, matplotlib, resampy, csvw, librosa, clldutils, segments, phonemizer\n",
      "  Attempting uninstall: setuptools\n",
      "    Found existing installation: setuptools 62.1.0\n",
      "    Uninstalling setuptools-62.1.0:\n",
      "      Successfully uninstalled setuptools-62.1.0\n"
     ]
    }
   ],
   "source": [
    "# 安装必要依赖\n",
    "!pip install -r requirements.txt\n",
    "!sudo apt-get install espeak -y"
   ]
  },
  {
   "cell_type": "code",
   "execution_count": 4,
   "id": "a319cefc-5234-49a6-b87f-f3c3b91b8c2f",
   "metadata": {
    "tags": [],
    "pycharm": {
     "name": "#%%\n"
    }
   },
   "outputs": [
    {
     "name": "stdout",
     "output_type": "stream",
     "text": [
      "Reading package lists... Done\n",
      "Building dependency tree       \n",
      "Reading state information... Done\n",
      "sox is already the newest version (14.4.2-3ubuntu0.18.04.1).\n",
      "0 upgraded, 0 newly installed, 0 to remove and 82 not upgraded.\n"
     ]
    }
   ],
   "source": [
    "# 音频解码\n",
    "!sudo apt-get install -y sox"
   ]
  },
  {
   "cell_type": "code",
   "execution_count": 7,
   "id": "fc93da7d-1695-49f5-b48a-ab1e19e8e688",
   "metadata": {
    "pycharm": {
     "name": "#%%\n"
    }
   },
   "outputs": [
    {
     "name": "stdout",
     "output_type": "stream",
     "text": [
      "/hy-tmp/vits/voice\n"
     ]
    }
   ],
   "source": [
    "%cd /hy-tmp/vits/voice"
   ]
  },
  {
   "cell_type": "code",
   "execution_count": 8,
   "id": "bf853ed3-3b96-4e91-b360-5bfef0216001",
   "metadata": {
    "pycharm": {
     "name": "#%%\n"
    }
   },
   "outputs": [],
   "source": [
    "%%bash\n",
    "for x in ./*.wav\n",
    "do \n",
    "  b=${x##*/}\n",
    "  sox -v 0.90 $b -r 22050 tmp_$b\n",
    "  rm -rf $b\n",
    "  mv tmp_$b $b\n",
    "done"
   ]
  },
  {
   "cell_type": "code",
   "execution_count": 7,
   "id": "4b9a8f87-fe5f-4b6f-a6f2-6db3151a9e25",
   "metadata": {
    "pycharm": {
     "name": "#%%\n"
    }
   },
   "outputs": [
    {
     "name": "stdout",
     "output_type": "stream",
     "text": [
      "/root/vits-mandarin-biaobei/monotonic_align\n",
      "Compiling core.pyx because it changed.\n",
      "[1/1] Cythonizing core.pyx\n",
      "/usr/local/lib/python3.8/dist-packages/Cython/Compiler/Main.py:369: FutureWarning: Cython directive 'language_level' not set, using 2 for now (Py2). This will change in a later release! File: /root/vits-mandarin-biaobei/monotonic_align/core.pyx\n",
      "  tree = Parsing.p_module(s, pxd, full_module_name)\n",
      "running build_ext\n",
      "building 'monotonic_align.core' extension\n",
      "creating build\n",
      "creating build/temp.linux-x86_64-3.8\n",
      "x86_64-linux-gnu-gcc -pthread -Wno-unused-result -Wsign-compare -DNDEBUG -g -fwrapv -O2 -Wall -g -fstack-protector-strong -Wformat -Werror=format-security -g -fwrapv -O2 -g -fstack-protector-strong -Wformat -Werror=format-security -Wdate-time -D_FORTIFY_SOURCE=2 -fPIC -I/usr/local/lib/python3.8/dist-packages/numpy/core/include -I/usr/include/python3.8 -c core.c -o build/temp.linux-x86_64-3.8/core.o\n",
      "creating /root/vits-mandarin-biaobei/monotonic_align/monotonic_align\n",
      "x86_64-linux-gnu-gcc -pthread -shared -Wl,-O1 -Wl,-Bsymbolic-functions -Wl,-Bsymbolic-functions -g -fwrapv -O2 -Wl,-Bsymbolic-functions -g -fwrapv -O2 -g -fstack-protector-strong -Wformat -Werror=format-security -Wdate-time -D_FORTIFY_SOURCE=2 build/temp.linux-x86_64-3.8/core.o -o /root/vits-mandarin-biaobei/monotonic_align/monotonic_align/core.cpython-38-x86_64-linux-gnu.so\n",
      "/root/vits-mandarin-biaobei\n"
     ]
    }
   ],
   "source": [
    "# 再次安装依赖\n",
    "%cd /root/vits-mandarin-biaobei/monotonic_align\n",
    "!python setup.py build_ext --inplace\n",
    "%cd .."
   ]
  },
  {
   "cell_type": "code",
   "execution_count": 4,
   "id": "30aebef6-e64f-4ca7-9351-4868c6171ea7",
   "metadata": {
    "pycharm": {
     "name": "#%%\n"
    }
   },
   "outputs": [
    {
     "name": "stdout",
     "output_type": "stream",
     "text": [
      "/hy-tmp/vits\n",
      "START: filelists/paimen_train.txt\n",
      "START: filelists/paimen_test.txt\n"
     ]
    }
   ],
   "source": [
    "# 数据处理\n",
    "%cd /hy-tmp/vits\n",
    "!python preprocess.py --text_index 1 --text_cleaners chinese_cleaners1 --filelists filelists/paimen_train.txt filelists/paimen_test.txt"
   ]
  },
  {
   "cell_type": "code",
   "execution_count": null,
   "id": "80fc1a59-5f40-4f44-8afe-9bade2aaa367",
   "metadata": {
    "pycharm": {
     "name": "#%%\n"
    }
   },
   "outputs": [
    {
     "name": "stdout",
     "output_type": "stream",
     "text": [
      "/hy-tmp/vits\n",
      "[INFO] {'train': {'log_interval': 200, 'eval_interval': 1000, 'seed': 1234, 'epochs': 2000, 'learning_rate': 0.0002, 'betas': [0.8, 0.99], 'eps': 1e-09, 'batch_size': 16, 'fp16_run': True, 'lr_decay': 0.999875, 'segment_size': 8192, 'init_lr_ratio': 1, 'warmup_epochs': 0, 'c_mel': 45, 'c_kl': 1.0}, 'data': {'training_files': 'filelists/paimen_train.txt.cleaned3', 'validation_files': 'filelists/paimen_test.txt.cleaned', 'text_cleaners': ['chinese_cleaners1'], 'max_wav_value': 32768.0, 'sampling_rate': 22050, 'filter_length': 1024, 'hop_length': 256, 'win_length': 1024, 'n_mel_channels': 80, 'mel_fmin': 0.0, 'mel_fmax': None, 'add_blank': True, 'n_speakers': 0, 'cleaned_text': True}, 'model': {'inter_channels': 192, 'hidden_channels': 192, 'filter_channels': 768, 'n_heads': 2, 'n_layers': 6, 'kernel_size': 3, 'p_dropout': 0.1, 'resblock': '1', 'resblock_kernel_sizes': [3, 7, 11], 'resblock_dilation_sizes': [[1, 3, 5], [1, 3, 5], [1, 3, 5]], 'upsample_rates': [8, 8, 2, 2], 'upsample_initial_channel': 512, 'upsample_kernel_sizes': [16, 16, 4, 4], 'n_layers_q': 3, 'use_spectral_norm': False}, 'model_dir': './logs/biaobei_base'}\n",
      "./logs/biaobei_base/G_0.pth\n",
      "[INFO] Loaded checkpoint './logs/biaobei_base/G_0.pth' (iteration 1)\n",
      "./logs/biaobei_base/D_0.pth\n",
      "[INFO] Loaded checkpoint './logs/biaobei_base/D_0.pth' (iteration 1)\n",
      "[INFO] Train Epoch: 1 [0%]\n",
      "[INFO] [6.083772659301758, 6.083928108215332, 0.5308133363723755, 112.47152709960938, 1.4621258974075317, 188.95819091796875, 0, 0.0002]\n",
      "[INFO] Saving model and optimizer state at iteration 1 to ./logs/biaobei_base/G_0.pth\n",
      "[INFO] Saving model and optimizer state at iteration 1 to ./logs/biaobei_base/D_0.pth\n"
     ]
    }
   ],
   "source": [
    "%cd /hy-tmp/vits\n",
    "!python train.py -c configs/biaobei_base.json -m biaobei_base"
   ]
  },
  {
   "cell_type": "code",
   "execution_count": 29,
   "id": "462dd160-2c25-4d7e-9d53-8388e71357a3",
   "metadata": {
    "pycharm": {
     "name": "#%%\n"
    }
   },
   "outputs": [],
   "source": [
    "# 处理有问题的数据集\n",
    "from utils import load_wav_to_torch, load_filepaths_and_text\n",
    "from text import text_to_sequence, cleaned_text_to_sequence\n",
    "import os\n",
    "import commons\n",
    "import torch\n",
    "from mel_processing import spectrogram_torch\n",
    "sampling_rate = 22050\n",
    "max_wav_value = 32768.0\n",
    "filter_length = 1024\n",
    "hop_length = 256\n",
    "win_length = 1024\n",
    "cleaned_text=True\n",
    "text_cleaners=[\"chinese_cleaners1\"]\n",
    "add_blank=True\n",
    "\n",
    "def get_audio(filename):\n",
    "    audio, sampling_rate = load_wav_to_torch(filename)\n",
    "    if sampling_rate != sampling_rate:\n",
    "        raise ValueError(\"{} {} SR doesn't match target {} SR\".format(\n",
    "            sampling_rate, sampling_rate))\n",
    "    audio_norm = audio / max_wav_value\n",
    "    audio_norm = audio_norm.unsqueeze(0)\n",
    "    spec_filename = filename.replace(\".wav\", \".spec.pt\")\n",
    "    print(spec_filename)\n",
    "    if os.path.exists(spec_filename):\n",
    "        spec = torch.load(spec_filename)\n",
    "    else:\n",
    "        spec = spectrogram_torch(audio_norm, filter_length,\n",
    "                                 sampling_rate, hop_length, win_length,\n",
    "                                 center=False)\n",
    "        spec = torch.squeeze(spec, 0)\n",
    "        torch.save(spec, spec_filename)\n",
    "    return spec, audio_norm\n",
    "\n",
    "\n",
    "def get_text(text):\n",
    "    if cleaned_text:\n",
    "        text_norm = cleaned_text_to_sequence(text)\n",
    "    else:\n",
    "        text_norm = text_to_sequence(text, text_cleaners)\n",
    "    if add_blank:\n",
    "        text_norm = commons.intersperse(text_norm, 0)\n",
    "    text_norm = torch.LongTensor(text_norm)\n",
    "    return text_norm"
   ]
  },
  {
   "cell_type": "code",
   "execution_count": 30,
   "id": "af4553c5-d05f-4be6-a04b-5ea035c72c10",
   "metadata": {
    "pycharm": {
     "name": "#%%\n"
    }
   },
   "outputs": [
    {
     "name": "stdout",
     "output_type": "stream",
     "text": [
      "'9'\n",
      "voice/0217.wav|wo3 kan4 ni3 gang1 cai2 shi4 99 fen1 dou1 shi4 yong3 qi4 le ba 。\n",
      "'7'\n",
      "voice/0354.wav|ru2 guo3 na4 yi1 zhao1 zhen1 de wu2 di2 de hua4 ，700 lei2 dian4 jiang1 jun1 ye3 jiu4 wu2 cong2 tan2 qi3 ba 。\n",
      "'6'\n",
      "voice/1011.wav|ru2 guo3 yao4 he1 ba1 li2 mao4 xian3 tuan2 he2 zuo4 tan4 suo3 mi4 qie4 jiu4 yi2 ding4 yao4 zuo4 hao3 zhun3 bei4 。 mi4 jing1 shi4 hen3 wei1 xian3 de ， chu1 fa1 qian2 yao4 duo1 jian3 cha2 ji3 bian4 wu4 zi1 he2 gong1 ju4 ， bu4 neng2 da4 yi4 。 wo3 ting1 shuo1 zai4 zhe4 xie1 mi4 jing4 li3 guang1 shi4 mao4 xian3 jia1 xie2 hui4 tong3 ji4 guo4 de si3 fa3 jiu4 you3 463 zhong3 。 ru2 guo3 ba3 ni3 tou2 bu4 xiao3 xin1 hai4 si3 le ni3 ， wo3 he2 ta1 de liang2 xin1 dou1 hui4 hen3 bu4 an1 de 。 wei4 shen2 me si3 de zhi3 you3 wo3 。 n2 ， gen1 ju4 tong3 ji4 ， yin1 wei4 wo3 hui4 fei1 ， suo3 yi3 ke3 yi3 zhi4 shao3 mian3 yi4 qi2 zhong1 de 322 zhong3 si3 fa3 。 wo3 hu1 ran2 bu4 tai4 xiang3 qu4 mi4 jing4 tan4 xian3 le 。\n",
      "'7'\n",
      "voice/2034.wav|ni3 zhi1 dao4 ma ？ na4 wei4 shan1 hu2 gong1 xin1 hai3 ， ke3 shi4 hai3 qi2 dao3 de xian1 ren2 shen2 wu3 nv3 ne 。 ye3 jiu4 shi4 hai3 qi2 dao3 de zui4 gao1 ling3 xiu4 ， zheng3 ge4 hai3 qi2 dao3 dou1 gui1 ta1 guan3 o2 。 wa ， pai4 meng2 ye3 xiang3 cheng2 wei2 na4 yang4 de da4 ren2 wu4 。 cheng2 wei2 da4 ren2 wu4 zhi1 hou4 ne 。 zhi1 hou4 jiu4 ke3 yi3 shen1 zhang1 zheng4 yi4 le ya ， bi3 ru2 shuo1 。 xian2 fan4 lv3 xing2 zhe3 ， zhong1 wu3 chi1 san1 cai4 tuan2 zi de shi2 hou4 ， zi4 ji3 chi1 diao4 le liang3 ge4 zhi3 fen1 gei3 le shou4 hai4 ren2 pan1 mou3 yi2 ge4 ， yan2 zhong4 wei2 fan3 le pai4 mou3 fa3 ling4 di4 37 tiao2 gong1 ping2 gong1 zheng4 。Na， qing3 wen4 pai4 meng2 da4 ren2 da3 suan4 ru2 he2 chu3 li3 ci3 shi4 ？ dang1 ran2 shi4 fa2 ni3 gei3 pai4 meng2 zuo4 hao3 duo1 suan1 cai4 tuan2 zi la ， hei1 hei1 。\n",
      "'6'\n",
      "voice/2051.wav|ai1 ，200 wan4 ke3 yi3 kan3 jia4 ， kan3 dao4 600 dao4 qi1 ren2 de jin1 qian2 guan1 nian4 shi4 bu2 shi4 you3 shen2 me wen4 ti2 a ？\n",
      "'6'\n",
      "voice/3667.wav|ru2 guo3 yao4 he1 ba1 li2 mao4 xian3 tuan2 he2 zuo4 tan4 suo3 mi4 qie4 jiu4 yi2 ding4 yao4 zuo4 hao3 zhun3 bei4 。 mi4 jing1 shi4 hen3 wei1 xian3 de ， chu1 fa1 qian2 yao4 duo1 jian3 cha2 ji3 bian4 wu4 zi1 he2 gong1 ju4 ， bu4 neng2 da4 yi4 。 wo3 ting1 shuo1 zai4 zhe4 xie1 mi4 jing4 li3 guang1 shi4 mao4 xian3 jia1 xie2 hui4 tong3 ji4 guo4 de si3 fa3 jiu4 you3 463 zhong3 。 ru2 guo3 ba3 ni3 tou2 bu4 xiao3 xin1 hai4 si3 le ni3 ， wo3 he2 ta1 de liang2 xin1 dou1 hui4 hen3 bu4 an1 de 。 wei4 shen2 me si3 de zhi3 you3 wo3 。 n2 ， gen1 ju4 tong3 ji4 ， yin1 wei4 wo3 hui4 fei1 ， suo3 yi3 ke3 yi3 zhi4 shao3 mian3 yi4 qi2 zhong1 de 322 zhong3 si3 fa3 。 wo3 hu1 ran2 bu4 tai4 xiang3 qu4 mi4 jing4 tan4 xian3 la 。\n",
      "'9'\n",
      "voice/3741.wav|300 wan4 he1 299 wan4 you3 shen2 me qu1 bie2 ma 。\n",
      "'6'\n",
      "voice/3786.wav|bao4 qian4 ，364 xian1 sheng1 ， guo3 ran2 wo3 hai2 shi4 。\n",
      "'9'\n",
      "voice/5439.wav|kan4 na4 bian1 19 tiao2 lian2 zhi4 hai2 you3 。\n",
      "'7'\n",
      "voice/6290.wav|zhao3 ben3 tang2 zhu3 you3 he2 gui4 gan4 ya 。 ai1 ， ni3 bu4 zhi1 dao4 ma ， wang3 sheng1 tang2 di4 77 dai4 tang2 zhu3 jiu4 shi4 hu2 tao2 wo3 la 。 bu4 guo4 ， qiao2 ni3 de mu2 yang4 ， rong2 guang1 huan4 fa1 ， shen1 ti3 jian4 kang1 。 n2 ， xiang3 bi4 shi4 wei4 le gong1 zuo4 yi3 wai4 de shi4 lai2 zhao3 wo3 dui4 ba 。\n",
      "'6'\n",
      "voice/6428.wav|zhe4 bu2 shi4 meng2 de2 na4 ge4 mao4 shi1 gui3 mao4 xian3 jia1 ma4 ta1 ye3 gen1 zhe 364 lai2 xue3 shan1 tan4 xian3 a 。\n",
      "'9'\n",
      "voice/6608.wav|He9 tiao2 sha1 lu4 bei4 nv3 shi4 gei3 。\n",
      "'6'\n",
      "voice/6660.wav|6308 shi4 feng1 dan1 yuan2 。\n",
      "'9'\n",
      "voice/6887.wav|zong3 zhi1 ， xiang3 yao4 zhang3 wo4 fei1 xing2 zhe4 zhong3 shi4 qing2 ， qi1 fen1 kao4 ji4 shu4 ， san1 fen1 kao4 zhi2 jue2 ， sheng4 xia4 de 90 fen1 quan2 dou1 shi4 kao4 yong3 qi4 lai2 bu3 zu2 la 。\n",
      "'7'\n",
      "voice/7266.wav|wo3 shi4 wang3 sheng1 tang2 di4 77 dai4 tang2 zhu3 ， wo3 ye2 ye2 shi4 di4 75 dai4 ， wo3 jing1 shou3 de di4 yi1 fen4 gong1 zuo4 jiu4 shi4 ti4 ye2 ye2 ban4 zang4 li3 ， shi4 bu2 shi4 hen3 yi4 wai4 a ， ai1 ya1 ， bu4 zhi1 bu4 jue2 jiu4 zai4 zhe4 yi1 xing2 zuo4 le hao3 xie1 nian2 shi2 jian1 guo4 de2 ke3 zhen1 kuai4 。\n",
      "'6'\n",
      "voice/7754.wav|6308 shi4 feng1 dan1 yuan2 。\n",
      "'7'\n",
      "voice/8262.wav|kan4 lai2 neng2 dao4 chu4 shou1 ji2 shi2 cai2 kao4 de bu4 zhi3 shi4 70 ne 。\n",
      "'7'\n",
      "voice/8358.wav|17 tuo1 kou3 er2 chu1 ， jie3 jie3 la ， er2 qie3 zi4 ji3 wan2 quan2 mei2 you3 zhu4 yi4 dao4 ba1 ba1 la1 yi3 jing1 chen2 zui4 yu2 xia4 ri4 la 。\n",
      "'6'\n",
      "voice/8713.wav|6308 shi4 feng1 dan1 yuan2 。\n",
      "'6'\n",
      "voice/8836.wav|wo3 ting1 shuo1 zai4 zhe4 xie1 mi4 jing4 li3 ， guang1 shi4 mao4 xian3 jia1 xie2 hui4 tong3 ji4 guo4 de si3 fa3 jiu4 you3 463 zhong3 。\n",
      "'9'\n",
      "voice/8873.wav|A9 tiao2 sha1 luo2 ， ni3 zhe4 me kuai4 jiu4 hui2 lai2 la 。\n"
     ]
    }
   ],
   "source": [
    "with open(\"filelists/paimen_train.txt.cleaned2\") as f:\n",
    "    with open(\"filelists/paimen_train.txt.cleaned3\",\"w\") as f2:\n",
    "        for file in f.read().split(\"\\n\"):\n",
    "            name = file.split(\"|\")\n",
    "            if len(name) == 2:\n",
    "                try:\n",
    "                    # get_audio(name[0])\n",
    "                    get_text(name[1])\n",
    "                    f2.write(\"{}\\n\".format(file))\n",
    "                except Exception as e:\n",
    "                    print(e)\n",
    "                    print(file)\n",
    "                        "
   ]
  },
  {
   "cell_type": "code",
   "execution_count": null,
   "id": "b4340d71-e806-4724-87c1-3c4d9c8ec3d3",
   "metadata": {
    "pycharm": {
     "name": "#%%\n"
    }
   },
   "outputs": [],
   "source": []
  }
 ],
 "metadata": {
  "kernelspec": {
   "display_name": "Python 3 (ipykernel)",
   "language": "python",
   "name": "python3"
  },
  "language_info": {
   "codemirror_mode": {
    "name": "ipython",
    "version": 3
   },
   "file_extension": ".py",
   "mimetype": "text/x-python",
   "name": "python",
   "nbconvert_exporter": "python",
   "pygments_lexer": "ipython3",
   "version": "3.8.13"
  }
 },
 "nbformat": 4,
 "nbformat_minor": 5
}